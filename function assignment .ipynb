{
 "cells": [
  {
   "cell_type": "code",
   "execution_count": 1,
   "id": "f781eb78-9e53-4bc3-b684-8e3793f21856",
   "metadata": {},
   "outputs": [
    {
     "name": "stdout",
     "output_type": "stream",
     "text": [
      "[1, 3, 5, 7, 9, 11, 13, 15, 17, 19, 21, 23, 25]\n"
     ]
    }
   ],
   "source": [
    "\"\"\"Which keyword is used to create a function? Create a function to return a list of odd numbers in the\n",
    "range of 1 to 25.\"\"\"\n",
    "def get_odd_numbers():\n",
    "    odd_numbers = []\n",
    "    for number in range(1, 26):\n",
    "        if number % 2 != 0:\n",
    "            odd_numbers.append(number)\n",
    "    return odd_numbers\n",
    "\n",
    "# Call the function to get the list of odd numbers from 1 to 25\n",
    "odd_list = get_odd_numbers()\n",
    "print(odd_list)\n"
   ]
  },
  {
   "cell_type": "code",
   "execution_count": 3,
   "id": "0b6fe78b-3312-48d0-9502-2de4daf9a2d1",
   "metadata": {},
   "outputs": [
    {
     "name": "stdout",
     "output_type": "stream",
     "text": [
      "Sum of all numbers: 6\n",
      "Sum of all numbers: 50\n",
      "Person description: name: John, age: 30, occupation: Engineer\n",
      "Person description: name: Alice, hobby: Painting, city: New York\n"
     ]
    }
   ],
   "source": [
    "\"\"\"Why *args and **kwargs is used in some functions? Create a function each for *args and **kwargs\n",
    "to demonstrate their use.\"\"\"\n",
    "# Function using *args to sum all the positional arguments\n",
    "def sum_all(*args):\n",
    "    total = 0\n",
    "    for num in args:\n",
    "        total += num\n",
    "    return total\n",
    "\n",
    "# Function using **kwargs to create a descriptive string of a person\n",
    "def describe_person(**kwargs):\n",
    "    description = []\n",
    "    for key, value in kwargs.items():\n",
    "        description.append(f\"{key}: {value}\")\n",
    "    return ', '.join(description)\n",
    "\n",
    "# Call the function with *args\n",
    "result1 = sum_all(1, 2, 3)\n",
    "result2 = sum_all(5, 10, 15, 20)\n",
    "\n",
    "# Call the function with **kwargs\n",
    "person1 = describe_person(name=\"John\", age=30, occupation=\"Engineer\")\n",
    "person2 = describe_person(name=\"Alice\", hobby=\"Painting\", city=\"New York\")\n",
    "\n",
    "# Print the results\n",
    "print(\"Sum of all numbers:\", result1)  # Output: 6\n",
    "print(\"Sum of all numbers:\", result2)  # Output: 50\n",
    "\n",
    "print(\"Person description:\", person1)  # Output: \"name: John, age: 30, occupation: Engineer\"\n",
    "print(\"Person description:\", person2)  # Output: \"name: Alice, hobby: Painting, city: New York\"\n"
   ]
  },
  {
   "cell_type": "code",
   "execution_count": 5,
   "id": "7e28bc03-51ed-4311-835d-5ad44dde5f37",
   "metadata": {},
   "outputs": [
    {
     "name": "stdout",
     "output_type": "stream",
     "text": [
      "2\n",
      "4\n",
      "6\n",
      "8\n",
      "10\n"
     ]
    }
   ],
   "source": [
    "\"\"\"What is an iterator in python? Name the method used to initialise the iterator object and the method\n",
    "used for iteration. Use these methods to print the first five elements of the given list [2, 4, 6, 8, 10, 12, 14,\n",
    "16, 18, 20].\"\"\"\n",
    "# Given list\n",
    "numbers = [2, 4, 6, 8, 10, 12, 14, 16, 18, 20]\n",
    "\n",
    "# Create an iterator object from the list\n",
    "numbers_iterator = iter(numbers)\n",
    "\n",
    "# Print the first five elements using the next() function\n",
    "for _ in range(5):\n",
    "    print(next(numbers_iterator))\n"
   ]
  },
  {
   "cell_type": "code",
   "execution_count": 7,
   "id": "b07f2a46-02be-47cb-8a0e-030189e49dde",
   "metadata": {},
   "outputs": [
    {
     "name": "stdout",
     "output_type": "stream",
     "text": [
      "1\n",
      "4\n",
      "9\n",
      "16\n",
      "25\n"
     ]
    }
   ],
   "source": [
    "\"\"\"What is a generator function in python? Why yield keyword is used? Give an example of a generator\n",
    "function.\"\"\"\n",
    "def generate_squares(limit):\n",
    "    for i in range(1, limit + 1):\n",
    "        yield i * i\n",
    "\n",
    "# Create a generator object\n",
    "squares = generate_squares(5)\n",
    "\n",
    "# Iterate through the generator and print each square\n",
    "for square in squares:\n",
    "    print(square)\n"
   ]
  },
  {
   "cell_type": "code",
   "execution_count": 15,
   "id": "a1494579-564a-48e0-a04e-c802962a7d58",
   "metadata": {},
   "outputs": [
    {
     "name": "stdout",
     "output_type": "stream",
     "text": [
      "2\n",
      "3\n",
      "5\n",
      "7\n",
      "11\n",
      "13\n",
      "17\n",
      "19\n",
      "23\n",
      "29\n",
      "31\n",
      "37\n",
      "41\n",
      "43\n",
      "47\n",
      "53\n",
      "59\n",
      "61\n",
      "67\n",
      "71\n"
     ]
    }
   ],
   "source": [
    "\"\"\"Create a generator function for prime numbers less than 1000. Use the next() method to print the\n",
    "first 20 prime numbers.\"\"\"\n",
    "def generate_primes():\n",
    "    for num in range(2, 1000):\n",
    "        is_prime = True\n",
    "        for i in range(2, int(num ** 0.5) + 1):\n",
    "            if num % i == 0:\n",
    "                is_prime = False\n",
    "                break\n",
    "        if is_prime:\n",
    "            yield num\n",
    "\n",
    "# Create the generator object\n",
    "prime_generator = generate_primes()\n",
    "\n",
    "# Use the next() method to print the first 20 prime numbers\n",
    "for _ in range(20):\n",
    "    print(next(prime_generator))\n"
   ]
  },
  {
   "cell_type": "code",
   "execution_count": 17,
   "id": "5b743be8-eede-4e0f-9abe-9440da380796",
   "metadata": {},
   "outputs": [
    {
     "name": "stdout",
     "output_type": "stream",
     "text": [
      "The first 10 Fibonacci numbers are:\n",
      "0\n",
      "1\n",
      "1\n",
      "2\n",
      "3\n",
      "5\n",
      "8\n",
      "13\n",
      "21\n",
      "34\n"
     ]
    }
   ],
   "source": [
    "#Write a python program to print the first 10 Fibonacci numbers using a while loop.\n",
    "# Initialize the first two Fibonacci numbers\n",
    "a, b = 0, 1\n",
    "\n",
    "# Set the counter to track the number of Fibonacci numbers printed\n",
    "count = 0\n",
    "\n",
    "# Number of Fibonacci numbers to print\n",
    "n = 10\n",
    "\n",
    "print(\"The first 10 Fibonacci numbers are:\")\n",
    "\n",
    "# While loop to generate Fibonacci numbers\n",
    "while count < n:\n",
    "    print(a)\n",
    "    # Update the Fibonacci numbers\n",
    "    a, b = b, a + b\n",
    "    count += 1\n"
   ]
  },
  {
   "cell_type": "code",
   "execution_count": 21,
   "id": "945a6252-154d-4d0a-b351-675fc15511af",
   "metadata": {},
   "outputs": [
    {
     "name": "stdout",
     "output_type": "stream",
     "text": [
      "['p', 'w', 's', 'k', 'i', 'l', 'l', 's']\n"
     ]
    }
   ],
   "source": [
    "\"\"\"Write a List Comprehension to iterate through the given string: ‘pwskills’.\n",
    "Expected output: ['p', 'w', 's', 'k', 'i', 'l', 'l', 's']\"\"\"\n",
    "string = 'pwskills'\n",
    "result = [char for char in string]\n",
    "print(result)\n"
   ]
  },
  {
   "cell_type": "code",
   "execution_count": 25,
   "id": "bf2301c6-d371-4bb1-974b-887b38dc0cde",
   "metadata": {},
   "outputs": [
    {
     "name": "stdin",
     "output_type": "stream",
     "text": [
      "Enter a number:  45\n"
     ]
    },
    {
     "name": "stdout",
     "output_type": "stream",
     "text": [
      "45 is not a palindrome.\n"
     ]
    }
   ],
   "source": [
    "#Write a python program to check whether a given number is Palindrome or not using a while loop.\n",
    "def is_palindrome(number):\n",
    "    original_number = number\n",
    "    reversed_number = 0\n",
    "\n",
    "    while number > 0:\n",
    "        last_digit = number % 10\n",
    "        reversed_number = (reversed_number * 10) + last_digit\n",
    "        number = number // 10\n",
    "\n",
    "    return original_number == reversed_number\n",
    "\n",
    "# Example usage:\n",
    "number = int(input(\"Enter a number: \"))\n",
    "if is_palindrome(number):\n",
    "    print(f\"{number} is a palindrome.\")\n",
    "else:\n",
    "    print(f\"{number} is not a palindrome.\")\n",
    "\n"
   ]
  },
  {
   "cell_type": "code",
   "execution_count": 27,
   "id": "07aa0d3d-7494-4107-aa18-80318f523b8a",
   "metadata": {},
   "outputs": [
    {
     "name": "stdout",
     "output_type": "stream",
     "text": [
      "[1, 3, 5, 7, 9, 11, 13, 15, 17, 19, 21, 23, 25, 27, 29, 31, 33, 35, 37, 39, 41, 43, 45, 47, 49, 51, 53, 55, 57, 59, 61, 63, 65, 67, 69, 71, 73, 75, 77, 79, 81, 83, 85, 87, 89, 91, 93, 95, 97, 99]\n"
     ]
    }
   ],
   "source": [
    "\"\"\"Write a code to print odd numbers from 1 to 100 using list comprehension.\n",
    "Note: Use a list comprehension to create a list from 1 to 100 and use another List comprehension to filter\n",
    "out odd numbers.\"\"\"\n",
    "# Create a list of numbers from 1 to 100\n",
    "numbers = [i for i in range(1, 101)]\n",
    "\n",
    "# Filter out odd numbers from the list\n",
    "odd_numbers = [num for num in numbers if num % 2 != 0]\n",
    "\n",
    "# Print the odd numbers\n",
    "print(odd_numbers)\n"
   ]
  },
  {
   "cell_type": "code",
   "execution_count": null,
   "id": "55b00b8d-6cd5-4f7c-a91c-671c9bb598d4",
   "metadata": {},
   "outputs": [],
   "source": []
  }
 ],
 "metadata": {
  "kernelspec": {
   "display_name": "Python 3 (ipykernel)",
   "language": "python",
   "name": "python3"
  },
  "language_info": {
   "codemirror_mode": {
    "name": "ipython",
    "version": 3
   },
   "file_extension": ".py",
   "mimetype": "text/x-python",
   "name": "python",
   "nbconvert_exporter": "python",
   "pygments_lexer": "ipython3",
   "version": "3.12.4"
  }
 },
 "nbformat": 4,
 "nbformat_minor": 5
}
